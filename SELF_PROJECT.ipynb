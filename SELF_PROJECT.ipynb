{
 "cells": [
  {
   "cell_type": "code",
   "execution_count": 1,
   "id": "8813d4dc-c183-42f8-ae2d-23af3be1b71c",
   "metadata": {},
   "outputs": [
    {
     "name": "stdout",
     "output_type": "stream",
     "text": [
      "Requirement already satisfied: requests in c:\\users\\seema\\anaconda3\\lib\\site-packages (2.31.0)\n",
      "Requirement already satisfied: beautifulsoup4 in c:\\users\\seema\\anaconda3\\lib\\site-packages (4.12.2)\n",
      "Requirement already satisfied: pandas in c:\\users\\seema\\anaconda3\\lib\\site-packages (2.1.4)\n",
      "Requirement already satisfied: charset-normalizer<4,>=2 in c:\\users\\seema\\anaconda3\\lib\\site-packages (from requests) (2.0.4)\n",
      "Requirement already satisfied: idna<4,>=2.5 in c:\\users\\seema\\anaconda3\\lib\\site-packages (from requests) (3.4)\n",
      "Requirement already satisfied: urllib3<3,>=1.21.1 in c:\\users\\seema\\anaconda3\\lib\\site-packages (from requests) (2.0.7)\n",
      "Requirement already satisfied: certifi>=2017.4.17 in c:\\users\\seema\\anaconda3\\lib\\site-packages (from requests) (2024.8.30)\n",
      "Requirement already satisfied: soupsieve>1.2 in c:\\users\\seema\\anaconda3\\lib\\site-packages (from beautifulsoup4) (2.5)\n",
      "Requirement already satisfied: numpy<2,>=1.23.2 in c:\\users\\seema\\anaconda3\\lib\\site-packages (from pandas) (1.26.4)\n",
      "Requirement already satisfied: python-dateutil>=2.8.2 in c:\\users\\seema\\anaconda3\\lib\\site-packages (from pandas) (2.8.2)\n",
      "Requirement already satisfied: pytz>=2020.1 in c:\\users\\seema\\anaconda3\\lib\\site-packages (from pandas) (2023.3.post1)\n",
      "Requirement already satisfied: tzdata>=2022.1 in c:\\users\\seema\\anaconda3\\lib\\site-packages (from pandas) (2023.3)\n",
      "Requirement already satisfied: six>=1.5 in c:\\users\\seema\\anaconda3\\lib\\site-packages (from python-dateutil>=2.8.2->pandas) (1.16.0)\n",
      "Note: you may need to restart the kernel to use updated packages.\n"
     ]
    }
   ],
   "source": [
    "pip install requests beautifulsoup4 pandas"
   ]
  },
  {
   "cell_type": "code",
   "execution_count": 2,
   "id": "22c9bc2e-1d66-4d28-a285-a77bdad50777",
   "metadata": {},
   "outputs": [
    {
     "name": "stdout",
     "output_type": "stream",
     "text": [
      "Scraping data for AAPL...\n",
      "Scraping data for GOOGL...\n",
      "Scraping data for MSFT...\n",
      "Scraping data for AMZN...\n",
      "Scraping data for TSLA...\n",
      "  Stock Symbol Current Price\n",
      "0         AAPL        227.73\n",
      "1        GOOGL        163.95\n",
      "2         MSFT        428.02\n",
      "3         AMZN        187.99\n",
      "4         TSLA        260.46\n"
     ]
    }
   ],
   "source": [
    "import requests\n",
    "from bs4 import BeautifulSoup\n",
    "import pandas as pd\n",
    "import time\n",
    "\n",
    "# Function to scrape stock price from Google Finance\n",
    "def scrape_google_finance(stock_symbol):\n",
    "    url = f'https://www.google.com/finance/quote/{stock_symbol}:NASDAQ'\n",
    "    \n",
    "    headers = {\n",
    "        \"User-Agent\": \"Mozilla/5.0 (Windows NT 10.0; Win64; x64)\"  # To mimic a browser request\n",
    "    }\n",
    "    \n",
    "    # Send a GET request to the URL\n",
    "    response = requests.get(url, headers=headers)\n",
    "    \n",
    "    # Check if the request was successful\n",
    "    if response.status_code != 200:\n",
    "        print(f\"Failed to retrieve data for {stock_symbol}. Status code: {response.status_code}\")\n",
    "        return None\n",
    "    \n",
    "    # Parse the webpage content\n",
    "    soup = BeautifulSoup(response.text, 'html.parser')\n",
    "\n",
    "    try:\n",
    "        # Extract the stock price\n",
    "        price_tag = soup.find('div', class_='YMlKec fxKbKc')\n",
    "        if not price_tag:\n",
    "            print(f\"Price tag not found for {stock_symbol}.\")\n",
    "            return None\n",
    "        price = price_tag.text.replace('$', '').replace(',', '').strip()\n",
    "\n",
    "        # Create a dictionary to store stock data\n",
    "        stock_data = {'Stock Symbol': stock_symbol, 'Current Price': price}\n",
    "        return stock_data\n",
    "    \n",
    "    except Exception as e:\n",
    "        print(f\"Error parsing data for {stock_symbol}: {e}\")\n",
    "        return None\n",
    "\n",
    "# Function to scrape multiple stock symbols\n",
    "def scrape_multiple_stocks(stock_symbols, delay=1):\n",
    "    all_stock_data = []\n",
    "    \n",
    "    for symbol in stock_symbols:\n",
    "        print(f\"Scraping data for {symbol}...\")\n",
    "        data = scrape_google_finance(symbol)\n",
    "        if data:\n",
    "            all_stock_data.append(data)\n",
    "        time.sleep(delay)  # Avoid hitting the server too hard\n",
    "    \n",
    "    # Convert list of dictionaries to DataFrame\n",
    "    stock_df = pd.DataFrame(all_stock_data)\n",
    "    return stock_df\n",
    "\n",
    "# Example usage\n",
    "if __name__ == \"__main__\":\n",
    "    stock_symbols = [\"AAPL\", \"GOOGL\", \"MSFT\", \"AMZN\", \"TSLA\"]\n",
    "    stock_df = scrape_multiple_stocks(stock_symbols)\n",
    "    \n",
    "    if not stock_df.empty:\n",
    "        stock_df.to_csv(\"google_stock_data.csv\", index=False)\n",
    "        print(stock_df)\n"
   ]
  },
  {
   "cell_type": "code",
   "execution_count": null,
   "id": "b2b542b5-bf69-4c59-aebe-2b8c01b7d85d",
   "metadata": {},
   "outputs": [],
   "source": []
  }
 ],
 "metadata": {
  "kernelspec": {
   "display_name": "Python 3 (ipykernel)",
   "language": "python",
   "name": "python3"
  },
  "language_info": {
   "codemirror_mode": {
    "name": "ipython",
    "version": 3
   },
   "file_extension": ".py",
   "mimetype": "text/x-python",
   "name": "python",
   "nbconvert_exporter": "python",
   "pygments_lexer": "ipython3",
   "version": "3.11.7"
  }
 },
 "nbformat": 4,
 "nbformat_minor": 5
}
